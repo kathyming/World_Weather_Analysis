{
 "cells": [
  {
   "cell_type": "code",
   "execution_count": 1,
   "id": "095a89a2",
   "metadata": {},
   "outputs": [],
   "source": [
    "# Import the random module.\n",
    "\n",
    "import random"
   ]
  },
  {
   "cell_type": "code",
   "execution_count": 2,
   "id": "2a7e3b94",
   "metadata": {},
   "outputs": [
    {
     "data": {
      "text/plain": [
       "84"
      ]
     },
     "execution_count": 2,
     "metadata": {},
     "output_type": "execute_result"
    }
   ],
   "source": [
    "random.randint(-90, 90)"
   ]
  },
  {
   "cell_type": "code",
   "execution_count": 3,
   "id": "fdeb4b40",
   "metadata": {},
   "outputs": [
    {
     "data": {
      "text/plain": [
       "0.5335323162540361"
      ]
     },
     "execution_count": 3,
     "metadata": {},
     "output_type": "execute_result"
    }
   ],
   "source": [
    "random.random()"
   ]
  },
  {
   "cell_type": "code",
   "execution_count": 4,
   "id": "ef57b797",
   "metadata": {},
   "outputs": [
    {
     "data": {
      "text/plain": [
       "27.20366759177861"
      ]
     },
     "execution_count": 4,
     "metadata": {},
     "output_type": "execute_result"
    }
   ],
   "source": [
    "random_number = random.randint(-90, 89) + random.random()\n",
    "random_number"
   ]
  },
  {
   "cell_type": "code",
   "execution_count": 6,
   "id": "76ebef15",
   "metadata": {},
   "outputs": [
    {
     "data": {
      "text/plain": [
       "[-67.53139083740196,\n",
       " 57.754800365856056,\n",
       " 74.54448832794121,\n",
       " 25.145301440245667,\n",
       " 78.81456690054839,\n",
       " -49.29527056507842,\n",
       " 66.3217082498471,\n",
       " -27.105805187134173,\n",
       " 56.529838072995304,\n",
       " 52.48040123531855]"
      ]
     },
     "execution_count": 6,
     "metadata": {},
     "output_type": "execute_result"
    }
   ],
   "source": [
    "# Assign starting value to x\n",
    "x = 1\n",
    "\n",
    "# Intialize an empty list, latitudes\n",
    "latitudes = []\n",
    "\n",
    "# Fill latitudes with random numbers\n",
    "while x < 11:\n",
    "    random_lat = random.randint(-90, 89) + random.random()\n",
    "    latitudes.append(random_lat)\n",
    "    x += 1\n",
    "    \n",
    "latitudes"
   ]
  },
  {
   "cell_type": "code",
   "execution_count": 7,
   "id": "08c189a3",
   "metadata": {},
   "outputs": [
    {
     "data": {
      "text/plain": [
       "-78"
      ]
     },
     "execution_count": 7,
     "metadata": {},
     "output_type": "execute_result"
    }
   ],
   "source": [
    "random.randrange(-90, 90, step = 3)"
   ]
  },
  {
   "cell_type": "code",
   "execution_count": 8,
   "id": "c4c17c19",
   "metadata": {},
   "outputs": [
    {
     "data": {
      "text/plain": [
       "-21.646700628914772"
      ]
     },
     "execution_count": 8,
     "metadata": {},
     "output_type": "execute_result"
    }
   ],
   "source": [
    "random.uniform(-90, 90)"
   ]
  },
  {
   "cell_type": "code",
   "execution_count": 10,
   "id": "7dcfc718",
   "metadata": {},
   "outputs": [],
   "source": [
    "# Import NumPy module.\n",
    "import numpy as np"
   ]
  },
  {
   "cell_type": "code",
   "execution_count": 12,
   "id": "d8cbba1f",
   "metadata": {},
   "outputs": [
    {
     "data": {
      "text/plain": [
       "array([ 88.49686021, -59.56236621,  16.015217  ,  89.90908004,\n",
       "        76.78659967,   0.38135031,  60.40271803, -80.72089793,\n",
       "        35.33941757, -35.49110694,  83.87979381, -52.25078617,\n",
       "        35.70650817,  31.40606319, -68.04880933,  29.67504621,\n",
       "        53.06946484, -39.34815699, -64.93751206, -18.15417273,\n",
       "       -39.54040968, -73.22132371, -45.218523  ,  87.50571195,\n",
       "        82.19166932,  20.49222781,  25.96399515, -71.99612954,\n",
       "        55.03711391,  27.03656478, -49.76418809,  56.21919713,\n",
       "       -41.9857395 , -77.32038956,  10.20515501,  11.12242298,\n",
       "       -49.95811763,  41.47057713, -39.734814  ,  21.73085838,\n",
       "        53.42671466, -27.80799968,  80.34216208,  53.95388075,\n",
       "        21.06425157,   1.82377101,   2.94282008,  70.89298115,\n",
       "       -44.24871562,  43.55360813])"
      ]
     },
     "execution_count": 12,
     "metadata": {},
     "output_type": "execute_result"
    }
   ],
   "source": [
    "np.random.uniform(-90.000, 90.000, size = 50)"
   ]
  },
  {
   "cell_type": "code",
   "execution_count": 15,
   "id": "74268e07",
   "metadata": {},
   "outputs": [],
   "source": [
    "# Import timeit.\n",
    "import timeit"
   ]
  },
  {
   "cell_type": "code",
   "execution_count": 16,
   "id": "674d22f9",
   "metadata": {},
   "outputs": [
    {
     "name": "stdout",
     "output_type": "stream",
     "text": [
      "15.2 µs ± 2.64 µs per loop (mean ± std. dev. of 7 runs, 100000 loops each)\n"
     ]
    }
   ],
   "source": [
    "# time how long it take sto generate 1500 random numbers using .uniform\n",
    "%timeit np.random.uniform(-90.000, 90.000, size=1500)"
   ]
  },
  {
   "cell_type": "code",
   "execution_count": 17,
   "id": "f4db42f7",
   "metadata": {},
   "outputs": [
    {
     "name": "stdout",
     "output_type": "stream",
     "text": [
      "1.39 ms ± 16.3 µs per loop (mean ± std. dev. of 7 runs, 1000 loops each)\n"
     ]
    }
   ],
   "source": [
    "# Time how long it takes to generate 1500 random numbers using while loop\n",
    "def latitudes(size):\n",
    "    latitudes = []\n",
    "    x = 0\n",
    "    while x < (size):\n",
    "        random_lat = random.randint(-90, 90) + random.random()\n",
    "        latitudes.append(random_lat)\n",
    "        x += 1\n",
    "    return latitudes\n",
    "# Call the function with 1500.\n",
    "%timeit latitudes(1500)"
   ]
  },
  {
   "cell_type": "code",
   "execution_count": null,
   "id": "c7fcad05",
   "metadata": {},
   "outputs": [],
   "source": []
  }
 ],
 "metadata": {
  "kernelspec": {
   "display_name": "Python 3 (ipykernel)",
   "language": "python",
   "name": "python3"
  },
  "language_info": {
   "codemirror_mode": {
    "name": "ipython",
    "version": 3
   },
   "file_extension": ".py",
   "mimetype": "text/x-python",
   "name": "python",
   "nbconvert_exporter": "python",
   "pygments_lexer": "ipython3",
   "version": "3.7.13"
  }
 },
 "nbformat": 4,
 "nbformat_minor": 5
}
